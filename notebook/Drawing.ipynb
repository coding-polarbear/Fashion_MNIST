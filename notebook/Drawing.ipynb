{
 "cells": [
  {
   "cell_type": "code",
   "execution_count": 1,
   "metadata": {
    "colab": {},
    "colab_type": "code",
    "id": "TzMDQ9t7wJbN"
   },
   "outputs": [],
   "source": [
    "import cv2\n",
    "import numpy as np"
   ]
  },
  {
   "cell_type": "code",
   "execution_count": 2,
   "metadata": {},
   "outputs": [],
   "source": [
    "data = [\"반팔\", \"바지\", \"긴팔\", \"원피스\", \"팔이 긴 옷\", \"끈 신발\", \"셔츠\", \"운동화\", \"가방\", \"목있는 신발\"]"
   ]
  },
  {
   "cell_type": "code",
   "execution_count": 3,
   "metadata": {
    "colab": {
     "base_uri": "https://localhost:8080/",
     "height": 35
    },
    "colab_type": "code",
    "executionInfo": {
     "elapsed": 1855,
     "status": "ok",
     "timestamp": 1551955151380,
     "user": {
      "displayName": "연두거북",
      "photoUrl": "https://lh3.googleusercontent.com/-lZmyD5haosE/AAAAAAAAAAI/AAAAAAAAABU/t-bHbi8PsPs/s64/photo.jpg",
      "userId": "01543341027784879399"
     },
     "user_tz": -540
    },
    "id": "I7qoyN4fu8iq",
    "outputId": "0d27e716-dc05-471d-db96-df3bc16812a1"
   },
   "outputs": [
    {
     "data": {
      "text/plain": [
       "'2.0.0-alpha0'"
      ]
     },
     "execution_count": 3,
     "metadata": {},
     "output_type": "execute_result"
    }
   ],
   "source": [
    "import tensorflow as tf\n",
    "tf.__version__"
   ]
  },
  {
   "cell_type": "code",
   "execution_count": 4,
   "metadata": {
    "colab": {},
    "colab_type": "code",
    "id": "8PltVrbDx7sb"
   },
   "outputs": [
    {
     "name": "stdout",
     "output_type": "stream",
     "text": [
      "Loaded model from disk\n"
     ]
    }
   ],
   "source": [
    "from tensorflow.keras.models import model_from_json  \n",
    "json_file = open(\"model.json\", \"r\") \n",
    "loaded_model_json = json_file.read() \n",
    "json_file.close() \n",
    "loaded_model = model_from_json(loaded_model_json) \n",
    "loaded_model.load_weights(\"model.h5\") \n",
    "print(\"Loaded model from disk\")"
   ]
  },
  {
   "cell_type": "code",
   "execution_count": 27,
   "metadata": {
    "colab": {},
    "colab_type": "code",
    "id": "J4L7Xi0wx9qz"
   },
   "outputs": [],
   "source": [
    "image=cv2.imread('img5.png',cv2.IMREAD_GRAYSCALE)"
   ]
  },
  {
   "cell_type": "code",
   "execution_count": 28,
   "metadata": {
    "colab": {},
    "colab_type": "code",
    "id": "3w5-EDc3yQOy"
   },
   "outputs": [],
   "source": [
    "image=image.reshape(-1,28,28,1)"
   ]
  },
  {
   "cell_type": "code",
   "execution_count": 29,
   "metadata": {
    "colab": {},
    "colab_type": "code",
    "id": "qOnaCo5TySNS"
   },
   "outputs": [],
   "source": [
    "imgae=image.astype('float32')/255.0"
   ]
  },
  {
   "cell_type": "code",
   "execution_count": 30,
   "metadata": {
    "colab": {
     "base_uri": "https://localhost:8080/",
     "height": 35
    },
    "colab_type": "code",
    "executionInfo": {
     "elapsed": 488,
     "status": "ok",
     "timestamp": 1551512016945,
     "user": {
      "displayName": "연두거북",
      "photoUrl": "https://lh3.googleusercontent.com/-lZmyD5haosE/AAAAAAAAAAI/AAAAAAAAABU/t-bHbi8PsPs/s64/photo.jpg",
      "userId": "01543341027784879399"
     },
     "user_tz": -540
    },
    "id": "YSUj_si0Ah1C",
    "outputId": "2db1d7d8-ea91-4253-df68-8f18f3458c92"
   },
   "outputs": [
    {
     "data": {
      "text/plain": [
       "(1, 28, 28, 1)"
      ]
     },
     "execution_count": 30,
     "metadata": {},
     "output_type": "execute_result"
    }
   ],
   "source": [
    "image.shape"
   ]
  },
  {
   "cell_type": "code",
   "execution_count": 31,
   "metadata": {
    "colab": {},
    "colab_type": "code",
    "id": "FleX_L7aHVFL"
   },
   "outputs": [],
   "source": [
    "pred=loaded_model.predict(image)\n",
    "pred=np.argmax(pred,axis=1)"
   ]
  },
  {
   "cell_type": "code",
   "execution_count": 32,
   "metadata": {
    "colab": {
     "base_uri": "https://localhost:8080/",
     "height": 35
    },
    "colab_type": "code",
    "executionInfo": {
     "elapsed": 833,
     "status": "ok",
     "timestamp": 1551508669369,
     "user": {
      "displayName": "연두거북",
      "photoUrl": "https://lh3.googleusercontent.com/-lZmyD5haosE/AAAAAAAAAAI/AAAAAAAAABU/t-bHbi8PsPs/s64/photo.jpg",
      "userId": "01543341027784879399"
     },
     "user_tz": -540
    },
    "id": "6raQDT5pHlsD",
    "outputId": "a029cd54-098b-4b32-9587-9d0ce7271d15"
   },
   "outputs": [
    {
     "data": {
      "text/plain": [
       "3"
      ]
     },
     "execution_count": 32,
     "metadata": {},
     "output_type": "execute_result"
    }
   ],
   "source": [
    "pred[0]"
   ]
  },
  {
   "cell_type": "code",
   "execution_count": 33,
   "metadata": {},
   "outputs": [
    {
     "data": {
      "text/plain": [
       "'원피스'"
      ]
     },
     "execution_count": 33,
     "metadata": {},
     "output_type": "execute_result"
    }
   ],
   "source": [
    "data[pred[0]]"
   ]
  },
  {
   "cell_type": "code",
   "execution_count": 34,
   "metadata": {
    "colab": {
     "base_uri": "https://localhost:8080/",
     "height": 35
    },
    "colab_type": "code",
    "executionInfo": {
     "elapsed": 874,
     "status": "ok",
     "timestamp": 1551508658748,
     "user": {
      "displayName": "연두거북",
      "photoUrl": "https://lh3.googleusercontent.com/-lZmyD5haosE/AAAAAAAAAAI/AAAAAAAAABU/t-bHbi8PsPs/s64/photo.jpg",
      "userId": "01543341027784879399"
     },
     "user_tz": -540
    },
    "id": "ux4hryWAHnEr",
    "outputId": "2fa7b9fa-fd20-43dd-e9c6-7c7118834363"
   },
   "outputs": [
    {
     "data": {
      "text/plain": [
       "(1,)"
      ]
     },
     "execution_count": 34,
     "metadata": {},
     "output_type": "execute_result"
    }
   ],
   "source": [
    "pred.shape"
   ]
  },
  {
   "cell_type": "code",
   "execution_count": null,
   "metadata": {},
   "outputs": [],
   "source": []
  }
 ],
 "metadata": {
  "colab": {
   "collapsed_sections": [],
   "name": "Drawing.ipynb",
   "provenance": [],
   "version": "0.3.2"
  },
  "kernelspec": {
   "display_name": "Python 3",
   "language": "python",
   "name": "python3"
  },
  "language_info": {
   "codemirror_mode": {
    "name": "ipython",
    "version": 3
   },
   "file_extension": ".py",
   "mimetype": "text/x-python",
   "name": "python",
   "nbconvert_exporter": "python",
   "pygments_lexer": "ipython3",
   "version": "3.7.2"
  }
 },
 "nbformat": 4,
 "nbformat_minor": 1
}
